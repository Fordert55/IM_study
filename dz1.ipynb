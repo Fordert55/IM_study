{
 "cells": [
  {
   "cell_type": "markdown",
   "metadata": {},
   "source": [
    "# Домашнее задание к лекции \"Основы Python\""
   ]
  },
  {
   "cell_type": "markdown",
   "metadata": {},
   "source": [
    "## Задание 1"
   ]
  },
  {
   "cell_type": "code",
   "execution_count": 11,
   "metadata": {},
   "outputs": [
    {
     "name": "stdout",
     "output_type": "stream",
     "text": [
      "Фраза 1 длиннее фразы 2\n"
     ]
    }
   ],
   "source": [
    "phrase_1 = 'Насколько проще было бы писать программы, если бы не заказчики'\n",
    "phrase_2 = '640Кб должно хватить для любых задач. Билл Гейтс (по легенде)'\n",
    "if phrase_1 > phrase_2:\n",
    "    print('Фраза 1 длиннее фразы 2')\n",
    "elif phrase_1 < phrase_2:\n",
    "    print('Фраза 2 длиннее фразы 1')\n",
    "else:\n",
    "    print('Фразы равной длины')"
   ]
  },
  {
   "cell_type": "code",
   "execution_count": 9,
   "metadata": {},
   "outputs": [
    {
     "name": "stdout",
     "output_type": "stream",
     "text": [
      "Фраза 2 длиннее фразы 1\n"
     ]
    }
   ],
   "source": [
    "phrase_1 = '640Кб должно хватить для любых задач. Билл Гейтс (по легенде)'\n",
    "phrase_2 = 'Насколько проще было бы писать программы, если бы не заказчики'\n",
    "if phrase_1 > phrase_2:\n",
    "    print('Фраза 1 длиннее фразы 2')\n",
    "elif phrase_1 < phrase_2:\n",
    "    print('Фраза 2 длиннее фразы 1')\n",
    "else:\n",
    "    print('Фразы равной длины')"
   ]
  },
  {
   "cell_type": "code",
   "execution_count": 10,
   "metadata": {},
   "outputs": [
    {
     "name": "stdout",
     "output_type": "stream",
     "text": [
      "Фразы равной длины\n"
     ]
    }
   ],
   "source": [
    "phrase_1 = 'Насколько проще было бы писать программы, если бы не заказчики'\n",
    "phrase_2 = 'Насколько проще было бы писать программы, если бы не заказчики'\n",
    "if phrase_1 > phrase_2:\n",
    "    print('Фраза 1 длиннее фразы 2')\n",
    "elif phrase_1 < phrase_2:\n",
    "    print('Фраза 2 длиннее фразы 1')\n",
    "else:\n",
    "    print('Фразы равной длины')"
   ]
  },
  {
   "cell_type": "markdown",
   "metadata": {},
   "source": [
    "## Задание 2"
   ]
  },
  {
   "cell_type": "code",
   "execution_count": 16,
   "metadata": {},
   "outputs": [
    {
     "name": "stdout",
     "output_type": "stream",
     "text": [
      "Високосный год\n"
     ]
    }
   ],
   "source": [
    "year = 2020\n",
    "if (year % 4 == 0 and year % 100 != 0) or year % 400 == 0:\n",
    "    print('Високосный год') \n",
    "else:\n",
    "    print('Обычный год')"
   ]
  },
  {
   "cell_type": "code",
   "execution_count": 19,
   "metadata": {},
   "outputs": [
    {
     "name": "stdout",
     "output_type": "stream",
     "text": [
      "Обычный год\n"
     ]
    }
   ],
   "source": [
    "year = 2019\n",
    "if (year % 4 == 0 and year % 100 != 0) or year % 400 == 0:\n",
    "    print('Високосный год') \n",
    "else:\n",
    "    print('Обычный год')"
   ]
  },
  {
   "cell_type": "markdown",
   "metadata": {},
   "source": [
    "## Задание 3"
   ]
  },
  {
   "cell_type": "code",
   "execution_count": 58,
   "metadata": {},
   "outputs": [
    {
     "name": "stdout",
     "output_type": "stream",
     "text": [
      "Введите день:30\n",
      "Введите месяц с большой буквы:Август\n",
      "Дева\n"
     ]
    }
   ],
   "source": [
    "d = int(input('Введите день:'))\n",
    "m = input('Введите месяц с большой буквы:')\n",
    "if (d >= 22 and d <= 31 and m == 'Декабрь') or (d >= 1 and d <= 19 and m == 'Январь'):\n",
    "        print('Козерог')\n",
    "elif (d >= 20 and d <= 31 and m == 'Январь') or (d >= 1 and d <= 19 and m == 'Февраль'):\n",
    "        print('Водолей')\n",
    "elif (d >= 20 and d <= 29 and m == 'Февраль') or (d >= 1 and d <= 21 and m == 'Март'):\n",
    "        print('Рыбы')   \n",
    "elif (d >= 22 and d <= 31 and m == 'Март') or (d >= 1 and d <= 21 and m == 'Апрель'):\n",
    "        print('Овен')          \n",
    "elif (d >= 22 and d <= 30 and m == 'Апрель') or (d >= 1 and d <= 21 and m == 'Май'):\n",
    "        print('Телец')            \n",
    "elif (d >= 22 and d <= 31 and m == 'Май') or (d >= 1 and d <= 21 and m == 'Июнь'):\n",
    "        print('Близнецы') \n",
    "elif (d >= 22 and d <= 30 and m == 'Июня') or (d >= 1 and d <= 21 and m == 'Июль'):\n",
    "        print('Рак')         \n",
    "elif (d >= 22 and d <= 31 and m == 'Июль') or (d >= 1 and d <= 21 and m == 'Август'):\n",
    "        print('Лев')\n",
    "elif (d >= 22 and d <= 31 and m == 'Август') or (d >= 1 and d <= 21 and m == 'Сентябрь'):\n",
    "        print('Дева')        \n",
    "elif (d >= 22 and d <= 30 and m == 'Сентябрь') or (d >= 1 and d <= 21 and m == 'Октябрь'):\n",
    "        print('Весы')          \n",
    "elif (d >= 22 and d <= 31 and m == 'Октябрь') or (d >= 1 and d <= 21 and m == 'Ноябрь'):\n",
    "        print('Скорпион')          \n",
    "elif (d >= 22 and d <= 30 and m == 'Ноябрь') or (d >= 1 and d <= 21 and m == 'Декабрь'):\n",
    "        print('Стрелец')            \n",
    "else:\n",
    "     print('Попробуйте еще раз')"
   ]
  },
  {
   "cell_type": "markdown",
   "metadata": {},
   "source": [
    "## Задание 4"
   ]
  },
  {
   "cell_type": "code",
   "execution_count": 62,
   "metadata": {},
   "outputs": [
    {
     "name": "stdout",
     "output_type": "stream",
     "text": [
      "Введите ширину:15\n",
      "Введите длину:50\n",
      "Введите высоту:15\n",
      "Стандартная коробка №3\n"
     ]
    }
   ],
   "source": [
    "w = int(input('Введите ширину:'))\n",
    "l = int(input('Введите длину:'))\n",
    "h = int(input('Введите высоту:'))\n",
    "\n",
    "if w < 15 and l < 15 and h < 15:\n",
    "    print('Коробка №1')\n",
    "elif 15 < w < 50 or 15 < l < 50 or 15 < h < 50:\n",
    "    print('Коробка №2')\n",
    "elif l > 200:\n",
    "    print('Упаковка для лыж')\n",
    "else:\n",
    "    print('Стандартная коробка №3')"
   ]
  }
 ],
 "metadata": {
  "kernelspec": {
   "display_name": "Python 3",
   "language": "python",
   "name": "python3"
  },
  "language_info": {
   "codemirror_mode": {
    "name": "ipython",
    "version": 3
   },
   "file_extension": ".py",
   "mimetype": "text/x-python",
   "name": "python",
   "nbconvert_exporter": "python",
   "pygments_lexer": "ipython3",
   "version": "3.8.5"
  }
 },
 "nbformat": 4,
 "nbformat_minor": 4
}
